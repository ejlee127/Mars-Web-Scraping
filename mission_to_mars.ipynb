{
 "cells": [
  {
   "cell_type": "markdown",
   "metadata": {},
   "source": [
    "# Scraping\n",
    "\n",
    "### NASA Mars News\n",
    "\n",
    "* [NASA Mars News Site](https://mars.nasa.gov/news/)\n",
    "\n",
    "* Collect the latest News Title and Paragraph Text\n",
    "\n",
    "### JPL Mars Space Images - Featured Image\n",
    "\n",
    "* [JPL Featured Space Image](https://www.jpl.nasa.gov/spaceimages/?search=&category=Mars)\n",
    "\n",
    "* Find the image url for the current Featured Mars Image and assign the url string to a variable called `featured_image_url`. Make sure to find the image url to the full size `.jpg` image and complete url string for this image.\n",
    "\n",
    "### Mars Facts\n",
    "\n",
    "* [Mars Facts webpage](https://space-facts.com/mars/)\n",
    "\n",
    "* Find the table containing facts about the planet including Diameter, Mass, etc.\n",
    "\n",
    "### Mars Hemispheres\n",
    "\n",
    "* [USGS Astrogeology site](https://astrogeology.usgs.gov/search/results?q=hemisphere+enhanced&k1=target&v1=Mars)\n",
    "\n",
    "* Obtain high resolution images for each of Mar's hemispheres - find the image url to the full resolution image"
   ]
  },
  {
   "cell_type": "code",
   "execution_count": 111,
   "metadata": {},
   "outputs": [],
   "source": [
    "from bs4 import BeautifulSoup as bs\n",
    "from splinter import Browser\n",
    "import pandas as pd\n",
    "import requests\n",
    "import time"
   ]
  },
  {
   "cell_type": "code",
   "execution_count": 6,
   "metadata": {},
   "outputs": [],
   "source": [
    "# Initialize browser\n",
    "def init_browser():\n",
    "    executable_path = {\"executable_path\": \"/usr/local/bin/chromedriver\"}\n",
    "    return Browser(\"chrome\", **executable_path, headless=False)"
   ]
  },
  {
   "cell_type": "markdown",
   "metadata": {},
   "source": [
    "## NASA Mars News"
   ]
  },
  {
   "cell_type": "code",
   "execution_count": 56,
   "metadata": {},
   "outputs": [],
   "source": [
    "def scrape_news():\n",
    "    browser = init_browser()\n",
    "    \n",
    "    url = \"https://mars.nasa.gov/news/\"\n",
    "    \n",
    "    browser.visit(url)\n",
    "\n",
    "    time.sleep(2)\n",
    "    \n",
    "    # Scrape page into Soup\n",
    "    html = browser.html\n",
    "    soup = bs(html, \"html.parser\")\n",
    "    \n",
    "    # Get the latest news title and paragraph text\n",
    "    article = soup.find('div', class_='list_text')\n",
    "    news_title = article.find('a').text\n",
    "    news_p = article.find('div', class_='article_teaser_body').text\n",
    "    \n",
    "    browser.quit()\n",
    "    \n",
    "    return {'title' : news_title, 'text' : news_p}"
   ]
  },
  {
   "cell_type": "markdown",
   "metadata": {},
   "source": [
    "## JPL Mars Space Images - Featured Image"
   ]
  },
  {
   "cell_type": "code",
   "execution_count": 62,
   "metadata": {},
   "outputs": [],
   "source": [
    "def scrape_JPL_image():\n",
    "    browser = init_browser()\n",
    "    \n",
    "    # Visit the url for JPL Featured Space Image\n",
    "    nasa_url = \"https://www.jpl.nasa.gov\"\n",
    "    jpl_query = \"/spaceimages/?search=&category=Mars\"\n",
    "    browser.visit(nasa_url+jpl_query)\n",
    "\n",
    "    time.sleep(1)\n",
    "    \n",
    "    # Scrape page into Soup\n",
    "    html = browser.html\n",
    "    soup = bs(html, \"html.parser\")\n",
    "    \n",
    "    # Find the image url for the current Featured Mars Image\n",
    "    article = soup.find('div', class_='carousel_items').find('article')\n",
    "    featured_image_url = article['style'].split(\"'\")[1]\n",
    "    \n",
    "    browser.quit()\n",
    "\n",
    "    return nasa_url+featured_image_url"
   ]
  },
  {
   "cell_type": "markdown",
   "metadata": {},
   "source": [
    "## Mars Facts"
   ]
  },
  {
   "cell_type": "code",
   "execution_count": 73,
   "metadata": {},
   "outputs": [],
   "source": [
    "def scrape_mars_facts():\n",
    "    browser = init_browser()\n",
    "    \n",
    "    # Visit the url for JPL Featured Space Image\n",
    "    url = \"https://space-facts.com/mars/\"\n",
    "    browser.visit(url)\n",
    "\n",
    "    time.sleep(1)\n",
    "    \n",
    "    # Read html using pandas\n",
    "    html = browser.html\n",
    "    tables = pd.read_html(html)\n",
    "    \n",
    "    # Scrape the table containing facts about the planet including Diameter, Mass, etc.\n",
    "    df = pd.DataFrame(tables[0])\n",
    "    table_html = df.to_html(index=False, border=1, header=False,\n",
    "                            classes=[\"table\", \"table-responsive\", \"table-striped\"], \n",
    "                            justify='center')\n",
    "\n",
    "    browser.quit()\n",
    "\n",
    "    return table_html"
   ]
  },
  {
   "cell_type": "markdown",
   "metadata": {},
   "source": [
    "## Mars Hemispheres"
   ]
  },
  {
   "cell_type": "code",
   "execution_count": 109,
   "metadata": {},
   "outputs": [],
   "source": [
    "def scrape_mars_hemispheres():\n",
    "    browser = init_browser()\n",
    "    \n",
    "    # Visit the USGS Astrogeology site\n",
    "    url = \"https://astrogeology.usgs.gov/search/results?q=hemisphere+enhanced&k1=target&v1=Mars\"\n",
    "    browser.visit(url)\n",
    "\n",
    "    time.sleep(1)\n",
    "    \n",
    "    # Scrape page into Soup\n",
    "    html = browser.html\n",
    "    soup = bs(html, \"html.parser\")\n",
    "    \n",
    "    # Find all items\n",
    "    items = soup.find_all('div', class_='item')\n",
    "    \n",
    "    # Initialize a list\n",
    "    hemisphere_image_urls = []\n",
    "    \n",
    "    # Find the titles and image urls for the Hemispheres\n",
    "    usgs_url = \"https://astrogeology.usgs.gov\"\n",
    "    for item in items:\n",
    "        # Find title of this item\n",
    "        title = item.find('h3').text\n",
    "        \n",
    "        # Initialize a dictionary\n",
    "        hemisphere = {}\n",
    "        \n",
    "        # Find the url where this item is explained in detail\n",
    "        item_url = item.find('a')['href']\n",
    "        \n",
    "        # Scrape the item's url to find image link and title\n",
    "        #response = requests.get(usgs_url+item_url)\n",
    "        #soup2 = bs(response.text, \"html.parser\")\n",
    "        \n",
    "        # Click the link of each item\n",
    "        browser.find_by_text(title).click()\n",
    "        soup2 = bs(browser.html, \"html.parser\")\n",
    "        \n",
    "        # Find the link for the full size image - the first link is for jpg, and the 2nd is tif(full size)\n",
    "        imgs = soup2.find('div', class_=\"downloads\").find_all('a')\n",
    "        jpg_url = imgs[0]['href']\n",
    "        \n",
    "        # Add the img url to the dictionary\n",
    "        hemisphere['title'] = title\n",
    "        hemisphere['img_url'] = jpg_url\n",
    "        \n",
    "        # Append the dictionary to the list\n",
    "        hemisphere_image_urls.append(hemisphere)\n",
    "        \n",
    "        # Back to the USGS Astrogeology site\n",
    "        browser.back()\n",
    "        \n",
    "        # Quit the browser\n",
    "    browser.quit()\n",
    "\n",
    "    return hemisphere_image_urls"
   ]
  },
  {
   "cell_type": "code",
   "execution_count": 110,
   "metadata": {},
   "outputs": [
    {
     "data": {
      "text/plain": [
       "[{'title': 'Cerberus Hemisphere Enhanced',\n",
       "  'img_url': 'https://astropedia.astrogeology.usgs.gov/download/Mars/Viking/cerberus_enhanced.tif/full.jpg'},\n",
       " {'title': 'Schiaparelli Hemisphere Enhanced',\n",
       "  'img_url': 'https://astropedia.astrogeology.usgs.gov/download/Mars/Viking/schiaparelli_enhanced.tif/full.jpg'},\n",
       " {'title': 'Syrtis Major Hemisphere Enhanced',\n",
       "  'img_url': 'https://astropedia.astrogeology.usgs.gov/download/Mars/Viking/syrtis_major_enhanced.tif/full.jpg'},\n",
       " {'title': 'Valles Marineris Hemisphere Enhanced',\n",
       "  'img_url': 'https://astropedia.astrogeology.usgs.gov/download/Mars/Viking/valles_marineris_enhanced.tif/full.jpg'}]"
      ]
     },
     "execution_count": 110,
     "metadata": {},
     "output_type": "execute_result"
    }
   ],
   "source": [
    "scrape_mars_hemispheres()"
   ]
  },
  {
   "cell_type": "code",
   "execution_count": null,
   "metadata": {},
   "outputs": [],
   "source": []
  }
 ],
 "metadata": {
  "kernelspec": {
   "display_name": "Python [conda env:PythonData] *",
   "language": "python",
   "name": "conda-env-PythonData-py"
  },
  "language_info": {
   "codemirror_mode": {
    "name": "ipython",
    "version": 3
   },
   "file_extension": ".py",
   "mimetype": "text/x-python",
   "name": "python",
   "nbconvert_exporter": "python",
   "pygments_lexer": "ipython3",
   "version": "3.6.10"
  }
 },
 "nbformat": 4,
 "nbformat_minor": 4
}
